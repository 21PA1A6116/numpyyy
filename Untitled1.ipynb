{
  "nbformat": 4,
  "nbformat_minor": 0,
  "metadata": {
    "colab": {
      "provenance": [],
      "authorship_tag": "ABX9TyMebCsKTLtdmu4Lg+N9VN5j",
      "include_colab_link": true
    },
    "kernelspec": {
      "name": "python3",
      "display_name": "Python 3"
    },
    "language_info": {
      "name": "python"
    }
  },
  "cells": [
    {
      "cell_type": "markdown",
      "metadata": {
        "id": "view-in-github",
        "colab_type": "text"
      },
      "source": [
        "<a href=\"https://colab.research.google.com/github/21PA1A6116/numpyyy/blob/main/Untitled1.ipynb\" target=\"_parent\"><img src=\"https://colab.research.google.com/assets/colab-badge.svg\" alt=\"Open In Colab\"/></a>"
      ]
    },
    {
      "cell_type": "code",
      "execution_count": 3,
      "metadata": {
        "colab": {
          "base_uri": "https://localhost:8080/"
        },
        "id": "b5jR1gh6sdwF",
        "outputId": "9aa0572d-747b-4644-8311-08703f58502b"
      },
      "outputs": [
        {
          "output_type": "stream",
          "name": "stdout",
          "text": [
            "Let's consider the elements [  0   1   8  27  64 125 216 343 512 729]\n",
            "The output of a[2] is 8\n",
            "The output of a[2:4] is [ 8 27]\n",
            "The output of a[2:3] is [8]\n",
            "The output of a[-1] is 729\n",
            "The output of a[-2] is 512\n",
            "The output of a[-5:-2] is [125 216 343]\n"
          ]
        }
      ],
      "source": [
        "import numpy as np\n",
        "a=np.arange(10)**3\n",
        "print(\"Let's consider the elements\",a)\n",
        "print(\"The output of a[2] is\", a[2]) \n",
        "print(\"The output of a[2:4] is\",a[2:4])\n",
        "print(\"The output of a[2:3] is\",a[2:3]) \n",
        "print(\"The output of a[-1] is\",a[-1])\n",
        "print(\"The output of a[-2] is\",a[-2])\n",
        "print(\"The output of a[-5:-2] is\",a[-5:-2]) "
      ]
    }
  ]
}